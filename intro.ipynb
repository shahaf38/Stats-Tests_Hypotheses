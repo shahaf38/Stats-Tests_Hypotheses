{
 "cells": [
  {
   "cell_type": "markdown",
   "metadata": {
    "slideshow": {
     "slide_type": "slide"
    }
   },
   "source": [
    "## En route vers les probas et les tests d'hypothèse\n",
    "\n",
    "![](https://imgs.xkcd.com/comics/here_to_help.png)"
   ]
  },
  {
   "cell_type": "markdown",
   "metadata": {
    "slideshow": {
     "slide_type": "slide"
    }
   },
   "source": [
    "## Probas vs stats\n",
    "\n"
   ]
  },
  {
   "cell_type": "markdown",
   "metadata": {
    "slideshow": {
     "slide_type": "fragment"
    }
   },
   "source": [
    "\"Les statistiques étudient des événements déroulés dans le passé à partir d'un grand nombre de données. Leur rôle est de permettre l'analyse, l'interprétation et la présentation simplifiée de ces informations.\n",
    "\n",
    "Les probabilités s'intéressent quant à elles à l'avenir. Elles ont pour but de déterminer la probabilité, c'est-à-dire la chance ou le risque, qu'un événement aléatoire se produise.\"\n"
   ]
  },
  {
   "cell_type": "markdown",
   "metadata": {
    "slideshow": {
     "slide_type": "slide"
    }
   },
   "source": [
    "## Un monde probabiliste...\n",
    "\n",
    "Des trucs qui n'arrivent qu'en exercice :\n",
    "\n",
    "- Pile ou face\n",
    "- Lancer de dé\n",
    "\n",
    "Mais aussi des trucs de la vraie vie :\n",
    "\n",
    "- Dans combien de temps j'ai un bus...\n",
    "- Répartition des tailles dans une population...\n",
    "- Les erreurs de mesures dans un process industriel...\n",
    "- Le bruit thermique d'un capteur...\n",
    "\n",
    "(et on ne parle même pas du monde quantique où tout est aléatoire...)"
   ]
  },
  {
   "cell_type": "markdown",
   "metadata": {
    "slideshow": {
     "slide_type": "slide"
    },
    "tags": []
   },
   "source": [
    "## Vocabulaire\n",
    "\n",
    "Une variable aléatoire est une variable dont la valeur est déterminée après la réalisation d’un phénomène, expérience ou événement, aléatoire. \n",
    "On la nomme souvent $X$.\n",
    "\n",
    "On note $P(X=a)$ la probabilité que la variable $X$ soit égale à la valeur $a$."
   ]
  },
  {
   "cell_type": "markdown",
   "metadata": {
    "slideshow": {
     "slide_type": "slide"
    }
   },
   "source": [
    "## Exemple du Pile ou Face\n",
    "\n",
    "- La variable aléatoire ?\n",
    "- Les valeurs possibles ?\n",
    "- Les probas ?\n"
   ]
  },
  {
   "cell_type": "markdown",
   "metadata": {
    "slideshow": {
     "slide_type": "fragment"
    }
   },
   "source": [
    "### Indépendance des lancers ou effet mémoire\n",
    "On lance 20 fois une pièce non truquée. On fait 20 piles et 0 faces. Quelle est la probabilité de refaire un pile ?\n",
    "\n",
    "On note \"la proba de l'évènement A sachant que l'évènement B s'est produit\" ou proba de A conditionnellement à B : $$P(A|B)$$\n",
    "\n",
    "En cas d'indépendance de A et B on a $P(A|B)=P(A)$ et $P(B|A)=P(B)$"
   ]
  },
  {
   "cell_type": "markdown",
   "metadata": {
    "slideshow": {
     "slide_type": "slide"
    }
   },
   "source": [
    "## Monty Hall ou le début du mal de crâne\n",
    "\n",
    "Le fameux problème de Monty Hall (jeu télévisé)\n",
    "\n",
    "- Soient trois portes, l'une cache une voiture, les deux autres une chèvre. Les prix sont répartis par tirage au sort.\n",
    "- Le présentateur connaît la répartition des prix.\n",
    "- Le joueur choisit une des portes, mais rien n'est révélé.\n",
    "- Le présentateur ouvre une autre porte ne révélant pas la voiture.\n",
    "- Le présentateur propose au candidat de changer son choix de porte à ouvrir définitivement.\n",
    "\n",
    "La question qui se pose alors est :\n",
    "\n",
    "   Le joueur augmente-t-il ses chances de gagner la voiture en changeant son choix initial ?\n"
   ]
  },
  {
   "cell_type": "markdown",
   "metadata": {
    "slideshow": {
     "slide_type": "slide"
    }
   },
   "source": [
    "## Monty Hall (2/2)\n",
    "\n",
    "A votre avis ? \n",
    "\n",
    "Vous pouvez \n",
    "\n",
    "... En débattre en groupe\n",
    "\n",
    "... Faire l'expérience sur https://montyhall.io/\n",
    "\n",
    "... Et si les intuitions n'arrivent pas à concorder... faire des simus pour se convaincre !"
   ]
  },
  {
   "cell_type": "markdown",
   "metadata": {
    "slideshow": {
     "slide_type": "slide"
    },
    "tags": []
   },
   "source": [
    "## Les fonctions de distribution : la PDF\n",
    "La Probability Density Function donne la probabilité d'observer telle réalisation.\n",
    "\n",
    "$$P(X=a) = pdf(a)$$\n",
    "\n",
    "Exemple discret (on parle alors de Probability Mass Function, PMF) :\n",
    "\n",
    "- Un Pile/Face\n",
    "- Un lancer de Dé 6\n",
    "\n",
    "Exemple continu : \n",
    "- Répartition des tailles dans une population\n",
    "\n",
    "Propriété de la PDF : $\\int_{-\\infty}^{+\\infty}pdf(x)dx=1$"
   ]
  },
  {
   "cell_type": "markdown",
   "metadata": {
    "slideshow": {
     "slide_type": "slide"
    },
    "tags": []
   },
   "source": [
    "## Les fonctions de distribution : la CDF\n",
    "Intégrale de la PDF\n",
    "\n",
    "Permet de répondre à la question  \"Je lance 100 pièces et je veux savoir la proba de faire 80 \"pile\" ou moins\"\n",
    "\n",
    "$$P(X<a) = \\int_{-\\infty}^{a}pdf(x)dx = cdf(a)$$"
   ]
  },
  {
   "cell_type": "markdown",
   "metadata": {
    "slideshow": {
     "slide_type": "slide"
    },
    "tags": []
   },
   "source": [
    "## Loi empirique/ loi théorique\n",
    "\n",
    "    All models are wrong, but some are useful.\n",
    "George Box ~1970\n",
    "\n",
    "Dans certains cas bien précis, on connait la loi théorique. Le reste du temps on l'approxime.\n",
    "\n",
    "Pour obtenir la pdf empirique, on va utiliser l'histogramme. Pour estimer la cdf empirique on utilise la somme cumulée des observations triées par ordre croissant : $cdf(a) = \\frac{1}{|X|}\\sum_{i=1}^{|X|}\\mathbb{1}_{X_i<a}$\n",
    "\n",
    "Pour les amateurs de preuves : \n",
    "ces approximations empiriques sont justifiées par la loi des grands nombres (https://fr.wikipedia.org/wiki/Loi_des_grands_nombres)"
   ]
  },
  {
   "cell_type": "code",
   "execution_count": 1,
   "metadata": {
    "slideshow": {
     "slide_type": "skip"
    }
   },
   "outputs": [],
   "source": [
    "import matplotlib.pyplot as plt\n",
    "import random\n",
    "import ipywidgets as ipw\n",
    "plt.xkcd()\n",
    "n=100\n",
    "def showPDFEmpirical(n):\n",
    "    x = random.choices(range(1,7),k=n)\n",
    "    fig,(ax1,ax2) = plt.subplots(1,2)\n",
    "    ax1.hist(x,bins=range(1,8),density=True)\n",
    "    ax1.set_xticks(range(1,7))\n",
    "    ax2.bar(range(1,7),[1/6]*6)\n",
    "    ax2.set_xticks(range(1,7))\n",
    "    plt.title(\"PDF empirique et théorique Dé 6 faces\")\n",
    "    plt.tight_layout()\n",
    "\n",
    "    plt.show()\n"
   ]
  },
  {
   "cell_type": "code",
   "execution_count": 2,
   "metadata": {
    "slideshow": {
     "slide_type": "slide"
    },
    "tags": []
   },
   "outputs": [
    {
     "data": {
      "application/vnd.jupyter.widget-view+json": {
       "model_id": "0f4b6989a73c44d1bcfc9072f19d7ae9",
       "version_major": 2,
       "version_minor": 0
      },
      "text/plain": [
       "interactive(children=(IntSlider(value=100, description='n', max=2000, min=100, step=100), Output()), _dom_clas…"
      ]
     },
     "metadata": {},
     "output_type": "display_data"
    },
    {
     "data": {
      "text/plain": [
       "<function __main__.showPDFEmpirical(n)>"
      ]
     },
     "execution_count": 2,
     "metadata": {},
     "output_type": "execute_result"
    }
   ],
   "source": [
    "ipw.interact(showPDFEmpirical,n=ipw.IntSlider(min=100, max=2000, step=100, value=100))\n"
   ]
  },
  {
   "cell_type": "markdown",
   "metadata": {
    "slideshow": {
     "slide_type": "slide"
    }
   },
   "source": [
    "## Des lois pour tout\n",
    "\n",
    "Vous pouvez explorer la liste sur :\n",
    "\n",
    "https://fr.wikipedia.org/wiki/Liste_de_lois_de_probabilit%C3%A9\n",
    "\n",
    "\n"
   ]
  },
  {
   "cell_type": "markdown",
   "metadata": {
    "slideshow": {
     "slide_type": "fragment"
    },
    "tags": []
   },
   "source": [
    "## et une loi hors normes tellement elle est présente...\n",
    "\n",
    "La gaussienne, la courbe en cloche, la loi normale...\n",
    "\n",
    "La loi normale de moyenne $\\mu$ et de variance $\\sigma^2$ est notée $$\\mathcal{N}(\\mu,\\sigma)$$\n",
    "\n",
    "Sa pdf est :\n",
    "$$pdf(x) = \\frac{1}{\\sigma\\sqrt{2\\pi}}e^{-\\frac{(x-\\mu)^2}{2\\sigma^2}}$$"
   ]
  },
  {
   "cell_type": "code",
   "execution_count": 3,
   "metadata": {
    "slideshow": {
     "slide_type": "skip"
    }
   },
   "outputs": [],
   "source": [
    "import scipy.stats as sst\n",
    "import numpy as np\n",
    "def plotGauss():\n",
    "    x=np.linspace(-5,5)\n",
    "    x1=np.linspace(-5,-1)\n",
    "    fig,(ax1,ax2) = plt.subplots(1,2,)\n",
    "    fig.set_size_inches(15,5)\n",
    "    ax1.plot(x,sst.norm.pdf(x))\n",
    "    ax1.fill_between(x1,sst.norm.pdf(x1),color='g')\n",
    "    ax1.annotate(\n",
    "            'pdf(-1)',\n",
    "            xy=(-1, 0.25), arrowprops=dict(arrowstyle='->'), xytext=(-3, 0.3))\n",
    "    ax1.annotate(\n",
    "            'cdf(-1)',\n",
    "            xy=(-1.3, 0.1), arrowprops=dict(arrowstyle='->'), xytext=(1, 0.1))\n",
    "    ax1.vlines(-1,0,0.4,ls='--')\n",
    "    ax2.plot(x,sst.norm.cdf(x),color='g')\n",
    "    ax2.annotate(\n",
    "            'cdf(-1)',\n",
    "            xy=(-1, 0.15), arrowprops=dict(arrowstyle='->'), xytext=(1, 0.1))\n",
    "    ax2.vlines(-1,0,1,ls='--')\n",
    "    plt.show()"
   ]
  },
  {
   "cell_type": "code",
   "execution_count": 4,
   "metadata": {
    "slideshow": {
     "slide_type": "slide"
    },
    "tags": []
   },
   "outputs": [
    {
     "data": {
      "image/png": "[encoded data removed]",
      "text/plain": [
       "<Figure size 1080x360 with 2 Axes>"
      ]
     },
     "metadata": {
      "needs_background": "light"
     },
     "output_type": "display_data"
    }
   ],
   "source": [
    "plotGauss()"
   ]
  },
  {
   "cell_type": "markdown",
   "metadata": {
    "slideshow": {
     "slide_type": "slide"
    },
    "tags": []
   },
   "source": [
    "## Pourquoi elle est partout ?\n",
    "\n",
    "Grâce au théorème central limite !\n",
    "\n",
    "Illustration avec des tirages Pile ou Face que l'on somme (pile=0,face=1)"
   ]
  },
  {
   "cell_type": "code",
   "execution_count": 5,
   "metadata": {
    "slideshow": {
     "slide_type": "skip"
    }
   },
   "outputs": [],
   "source": [
    "def runSimuPF(n):\n",
    "    x=np.random.choice([0,1],size=(100,n))\n",
    "    plt.hist([x[i].sum() for i in range(0,100)],density=True)\n",
    "    plt.show()"
   ]
  },
  {
   "cell_type": "code",
   "execution_count": 6,
   "metadata": {
    "slideshow": {
     "slide_type": "fragment"
    }
   },
   "outputs": [
    {
     "data": {
      "application/vnd.jupyter.widget-view+json": {
       "model_id": "a296822e637a4a2c9146cd2eaf37e1f9",
       "version_major": 2,
       "version_minor": 0
      },
      "text/plain": [
       "interactive(children=(IntSlider(value=10, description='n', max=1000, min=10, step=10), Output()), _dom_classes…"
      ]
     },
     "metadata": {},
     "output_type": "display_data"
    },
    {
     "data": {
      "text/plain": [
       "<function __main__.runSimuPF(n)>"
      ]
     },
     "execution_count": 6,
     "metadata": {},
     "output_type": "execute_result"
    }
   ],
   "source": [
    "ipw.interact(runSimuPF,n=ipw.IntSlider(min=10, max=1000, step=10, value=10))\n"
   ]
  },
  {
   "cell_type": "markdown",
   "metadata": {
    "slideshow": {
     "slide_type": "slide"
    },
    "tags": []
   },
   "source": [
    "## A vous de jouer\n",
    "![](https://imgs.xkcd.com/comics/compiling.png)"
   ]
  },
  {
   "cell_type": "markdown",
   "metadata": {
    "slideshow": {
     "slide_type": "slide"
    },
    "tags": []
   },
   "source": [
    "## Test d'hypothèse\n",
    "![](https://imgs.xkcd.com/comics/hypothesis_generation.png)\n",
    "1. Définir l’hypothèse nulle H0\n",
    "2. Choisir une mesure/statistique pour contrôler H0\n",
    "3. Définir la distribution de probabilité sous H0\n",
    "4. Choisir le niveau de signification $\\alpha$\n",
    "5. Calculer la valeur de la mesure/statistique et de la p-value à partir des observations\n",
    "6. Prendre une décision concernant l’hypothèse posée"
   ]
  },
  {
   "cell_type": "markdown",
   "metadata": {
    "slideshow": {
     "slide_type": "slide"
    },
    "tags": []
   },
   "source": [
    "## H0/H1, Hypothèse nulle/hypothèse alternative\n",
    "![](https://imgs.xkcd.com/comics/null_hypothesis.png)\n",
    "\n",
    "Généralement on choisit comme hypothèse nulle ce que l'on sait modéliser, et on va évaluer si l'observation est plausible dans le cas où H0 serait vrai.\n",
    "\n",
    "Exemple : pièce de pile/face truquée ou non. Que choisir pour H0 ?"
   ]
  },
  {
   "cell_type": "markdown",
   "metadata": {
    "slideshow": {
     "slide_type": "slide"
    },
    "tags": []
   },
   "source": [
    "## A vous de jouer\n",
    "![](https://imgs.xkcd.com/comics/computer_problems.png)"
   ]
  },
  {
   "cell_type": "markdown",
   "metadata": {
    "slideshow": {
     "slide_type": "slide"
    },
    "tags": []
   },
   "source": [
    "## Le monde se divise en 2 catégories\n",
    "Les bayésiens, les fréquentistes\n",
    "\n",
    "![bayes_vs_freq](https://imgs.xkcd.com/comics/frequentists_vs_bayesians.png)\n",
    "\n"
   ]
  },
  {
   "cell_type": "markdown",
   "metadata": {},
   "source": []
  },
  {
   "cell_type": "code",
   "execution_count": 7,
   "metadata": {
    "slideshow": {
     "slide_type": "skip"
    },
    "tags": []
   },
   "outputs": [],
   "source": [
    "from random import shuffle, choice\n",
    "door_numbers = [1, 2, 3]\n",
    "wanted_award = \"car\"\n",
    "unwanted_award = \"goat\"\n",
    "awards = [wanted_award, unwanted_award, unwanted_award]\n",
    "\n",
    "def monty_hall_trial(initial_door_number, should_switch):\n",
    "    shuffle(awards)\n",
    "    doors = dict(zip(door_numbers, awards))\n",
    "    remaining_door_numbers = [x for x in door_numbers if x != initial_door_number]\n",
    "    for door_number in remaining_door_numbers:\n",
    "        if doors[door_number] == unwanted_award:\n",
    "            remaining_door_numbers.remove(door_number)\n",
    "            break\n",
    "\n",
    "    switched_door_number = remaining_door_numbers[0]\n",
    "    final_door_number = switched_door_number if should_switch else initial_door_number\n",
    "    won_car = doors[final_door_number] == wanted_award\n",
    "    return won_car"
   ]
  },
  {
   "cell_type": "code",
   "execution_count": 8,
   "metadata": {
    "slideshow": {
     "slide_type": "skip"
    },
    "tags": []
   },
   "outputs": [],
   "source": [
    "def simulate_monty_hall(trial_number, should_switch):\n",
    "    winning_counts = 0\n",
    "    for trial_i in range(trial_number):\n",
    "        initial_pick = choice(door_numbers)\n",
    "        won_car = monty_hall_trial(initial_pick, should_switch)\n",
    "        winning_counts += int(won_car)\n",
    "    winning_prob = winning_counts/trial_number\n",
    "    print(f\"Trial Times: {trial_number} times\\n\"\n",
    "          f\"Switching: {should_switch}\\n\"\n",
    "          f\"Probability: {winning_prob:.2%}\")"
   ]
  },
  {
   "cell_type": "code",
   "execution_count": null,
   "metadata": {},
   "outputs": [],
   "source": []
  }
 ],
 "metadata": {
  "celltoolbar": "Diaporama",
  "kernelspec": {
   "display_name": "Python 3 (ipykernel)",
   "language": "python",
   "name": "python3"
  },
  "language_info": {
   "codemirror_mode": {
    "name": "ipython",
    "version": 3
   },
   "file_extension": ".py",
   "mimetype": "text/x-python",
   "name": "python",
   "nbconvert_exporter": "python",
   "pygments_lexer": "ipython3",
   "version": "3.9.5"
  },
  "rise": {
   "scroll": true
  },
  "vscode": {
   "interpreter": {
    "hash": "173a873b5864f64e5c4e0443ecd8f466fb3b1a663e43a364a359a5cfd33e218e"
   }
  }
 },
 "nbformat": 4,
 "nbformat_minor": 4
}
